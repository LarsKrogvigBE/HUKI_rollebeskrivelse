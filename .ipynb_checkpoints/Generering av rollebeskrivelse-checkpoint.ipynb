{
 "cells": [
  {
   "cell_type": "code",
   "execution_count": null,
   "metadata": {
    "collapsed": false
   },
   "outputs": [],
   "source": [
    "import csv\n",
    "import docx\n",
    "import numpy as np"
   ]
  },
  {
   "cell_type": "code",
   "execution_count": null,
   "metadata": {
    "collapsed": false
   },
   "outputs": [],
   "source": [
    "rowset = []\n",
    "with open('HUKI for prosesser i Feiring Bruk v2.csv', 'rb') as csvfile:\n",
    "    dialect = csv.Sniffer().sniff(csvfile.read(1024))\n",
    "    csvfile.seek(0)\n",
    "    reader = csv.reader(csvfile, dialect)\n",
    "    \n",
    "    rowset = []\n",
    "    i = 0\n",
    "    for row in reader:\n",
    "        if i < 10: rowset.append(row)\n",
    "        i += 1\n",
    "        \n",
    "D = np.array(rowset,dtype=np.string_)\n",
    "\n",
    "    # ... process CSV file contents here ..."
   ]
  },
  {
   "cell_type": "code",
   "execution_count": null,
   "metadata": {
    "collapsed": false
   },
   "outputs": [],
   "source": [
    "# Koordinater\n",
    "row_avd        = 2\n",
    "row_rolle      = 3\n",
    "row_data_start = 5\n",
    "\n",
    "col_underaktivitet = 3\n",
    "col_data_start     = 4\n",
    "col_data_end       = 4 + 8\n",
    "#col_data_end       = 60\n",
    "\n",
    "rolle = D[row_rolle, col_data_start:col_data_end+1]\n",
    "desc  = D[row_data_start:,col_underaktivitet]\n",
    "data  = D[row_data_start:,col_data_start:col_data_end+1]\n",
    "\n",
    "(m,n) = data.shape\n",
    "\n",
    "ansvar = ['H','U','K','I']\n",
    "    "
   ]
  },
  {
   "cell_type": "code",
   "execution_count": null,
   "metadata": {
    "collapsed": false,
    "scrolled": false
   },
   "outputs": [],
   "source": [
    "def print_document(doc):\n",
    "    if doc['ansvar']:\n",
    "        print '\\n--------', doc['rolle'], '--------'\n",
    "        for a in [aa for aa in ansvar if aa in doc['ansvar']]:\n",
    "            print '\\n--', a, '--'\n",
    "            for d in doc['ansvar'][a].values():\n",
    "                print ' * ', d['desc']\n",
    "                if a=='U':\n",
    "                    if d['konsultere']: print '    Konsultere:', ','.join(d['konsultere'])\n",
    "                    if d['informere']:  print '    Informere: ', ','.join(d['informere'])\n",
    "                    \n",
    "    pass\n",
    "\n",
    "for j, rl in enumerate(rolle):\n",
    "    document = {'rolle': rl, 'ansvar': {}}\n",
    "    for a in ansvar:\n",
    "        dlist = dict(zip([i for i in xrange(m) if a in data[i,j]], [{'desc': desc[i]} for i in xrange(m) if a in data[i,j]]))\n",
    "        for i in dlist:\n",
    "            dlist[i]['konsultere'] = [rolle[k] for k in xrange(n) if 'K' in data[i,k]]\n",
    "            dlist[i]['informere']  = [rolle[k] for k in xrange(n) if 'I' in data[i,k]]\n",
    "        if dlist: document['ansvar'][a] = dlist\n",
    "    \n",
    "    print_document(document)\n",
    "    \n"
   ]
  },
  {
   "cell_type": "code",
   "execution_count": null,
   "metadata": {
    "collapsed": false
   },
   "outputs": [],
   "source": [
    "m"
   ]
  },
  {
   "cell_type": "code",
   "execution_count": null,
   "metadata": {
    "collapsed": true
   },
   "outputs": [],
   "source": []
  }
 ],
 "metadata": {
  "kernelspec": {
   "display_name": "Python 2",
   "language": "python",
   "name": "python2"
  },
  "language_info": {
   "codemirror_mode": {
    "name": "ipython",
    "version": 2
   },
   "file_extension": ".py",
   "mimetype": "text/x-python",
   "name": "python",
   "nbconvert_exporter": "python",
   "pygments_lexer": "ipython2",
   "version": "2.7.9"
  }
 },
 "nbformat": 4,
 "nbformat_minor": 0
}
