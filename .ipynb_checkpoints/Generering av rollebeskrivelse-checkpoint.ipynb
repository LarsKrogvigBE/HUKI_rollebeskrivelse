{
 "cells": [
  {
   "cell_type": "code",
   "execution_count": null,
   "metadata": {
    "collapsed": false
   },
   "outputs": [],
   "source": [
    "import re\n",
    "import csv\n",
    "import docx\n",
    "import numpy as np\n",
    "\n",
    "from docx import Document"
   ]
  },
  {
   "cell_type": "code",
   "execution_count": null,
   "metadata": {
    "collapsed": false
   },
   "outputs": [],
   "source": [
    "rowset = []\n",
    "with open('HUKI for prosesser i Feiring Bruk v2.csv', 'rb') as csvfile:\n",
    "    dialect = csv.Sniffer().sniff(csvfile.read(1024))\n",
    "    csvfile.seek(0)\n",
    "    reader = csv.reader(csvfile, dialect)\n",
    "    \n",
    "    rowset = []\n",
    "    i = 0\n",
    "    for row in reader:\n",
    "        if i < 10: rowset.append(row)\n",
    "        i += 1\n",
    "        \n",
    "D = np.array(rowset,dtype=np.string_)\n",
    "\n",
    "    # ... process CSV file contents here ..."
   ]
  },
  {
   "cell_type": "code",
   "execution_count": null,
   "metadata": {
    "collapsed": false
   },
   "outputs": [],
   "source": [
    "# Koordinater\n",
    "row_avd        = 2\n",
    "row_rolle      = 3\n",
    "row_data_start = 5\n",
    "\n",
    "col_underaktivitet = 3 \n",
    "col_data_start     = 4\n",
    "col_data_end       = 4 + 8\n",
    "#col_data_end       = 60\n",
    "\n",
    "rolle = D[row_rolle, col_data_start:col_data_end+1]\n",
    "desc  = D[row_data_start:,col_underaktivitet]\n",
    "data  = D[row_data_start:,col_data_start:col_data_end+1]\n",
    "\n",
    "(m,n) = data.shape\n",
    "\n",
    "ansvar = ['H','U','K','I']\n",
    "ansvartext = {'H': 'Rollen er hovedansvarlig for at følgende aktiviteter blir utført, og for å ta beslutninger knyttet til disse aktivitetene',\n",
    "              'U': 'Rollen skal utføre følgende aktiviteter',\n",
    "              'K': 'Rollen skal være tilgjengelig for konsultasjon i følgende aktiviteter',\n",
    "              'I': 'Rollen skal informeres om følgende aktiviteter'} \n",
    "    "
   ]
  },
  {
   "cell_type": "code",
   "execution_count": null,
   "metadata": {
    "collapsed": false
   },
   "outputs": [],
   "source": [
    "def stringprep(s):\n",
    "    return unicode(s.decode('utf-8'))\n",
    "\n",
    "def stringclean(s):\n",
    "    tmp = re.search('([a-zA-z0-9 ]*)',doc['rolle'])\n",
    "    return tmp.group(0)\n",
    "    \n",
    "\n",
    "def print_document(doc):\n",
    "    if doc['ansvar']:\n",
    "        print '\\n--------', doc['rolle'], '--------'\n",
    "        for a in [aa for aa in ansvar if aa in doc['ansvar']]:\n",
    "            print '\\n--', a, '--'\n",
    "            for d in doc['ansvar'][a].values():\n",
    "                print ' * ', d['desc']\n",
    "                if a=='U':\n",
    "                    if d['konsultere']: print '    Konsultere:', ','.join(d['konsultere'])\n",
    "                    if d['informere']:  print '    Informere: ', ','.join(d['informere'])\n",
    "                    \n",
    "    pass\n",
    "\n",
    "def generate_document(doc):\n",
    "    \n",
    "    document = Document('blank.docx')\n",
    "    \n",
    "    print stringprep(doc['rolle'])\n",
    "    \n",
    "    #document.add_heading(, 0)\n",
    "    document.add_paragraph(stringprep(doc['rolle']), style='Heading 1')\n",
    "\n",
    "    document.add_paragraph(u'Ansvar og myndighet', style='Heading 2')\n",
    "    \n",
    "    for a in ansvar:\n",
    "        \n",
    "        document.add_paragraph(stringprep(ansvartext[a]), style='Heading 3')\n",
    "        \n",
    "        if a in doc['ansvar']:\n",
    "            \n",
    "            if a=='U':\n",
    "                \n",
    "                table = document.add_table(rows=1, cols=3, style='Table Grid BE-style')\n",
    "                \n",
    "                hdr = table.rows[0].cells\n",
    "                hdr[0].text = stringprep('Skal utføre følgende aktiviteter:')\n",
    "                hdr[1].text = stringprep('Skal konsultere følgende roller:')\n",
    "                hdr[2].text = stringprep('Skal informere følgende roller:')\n",
    "                for d in doc['ansvar']['U'].values():\n",
    "                    row = table.add_row().cells\n",
    "                    row[0].text = stringprep(d['desc'])\n",
    "                    row[1].text = stringprep(', '.join(d['konsultere']))\n",
    "                    row[2].text = stringprep(', '.join(d['informere']))\n",
    "                \n",
    "            else:\n",
    "                for d in doc['ansvar'][a].values():\n",
    "                    document.add_paragraph(stringprep(d['desc']), style='Bullet 1')\n",
    "        else:\n",
    "            document.add_paragraph(stringprep('Ingen aktiviteter'))\n",
    "            \n",
    "    \n",
    "    document.save(stringclean(doc['rolle'])+u'.docx')\n",
    "    \n",
    "    pass     \n",
    "        \n",
    "        \n",
    "        \n",
    "        \n",
    "    "
   ]
  },
  {
   "cell_type": "code",
   "execution_count": null,
   "metadata": {
    "collapsed": false,
    "scrolled": false
   },
   "outputs": [],
   "source": [
    "\n",
    "\n",
    "for j, rl in enumerate(rolle):\n",
    "    doc = {'rolle': rl, 'ansvar': {}}\n",
    "    for a in ansvar:\n",
    "        dlist = dict(zip([i for i in xrange(m) if a in data[i,j]], [{'desc': desc[i]} for i in xrange(m) if a in data[i,j]]))\n",
    "        for i in dlist:\n",
    "            dlist[i]['konsultere'] = [rolle[k] for k in xrange(n) if 'K' in data[i,k]]\n",
    "            dlist[i]['informere']  = [rolle[k] for k in xrange(n) if 'I' in data[i,k]]\n",
    "        if dlist: doc['ansvar'][a] = dlist\n",
    "    \n",
    "    generate_document(doc)\n",
    "    "
   ]
  },
  {
   "cell_type": "code",
   "execution_count": null,
   "metadata": {
    "collapsed": false
   },
   "outputs": [],
   "source": [
    "doc['ansvar']['U']"
   ]
  },
  {
   "cell_type": "code",
   "execution_count": null,
   "metadata": {
    "collapsed": true
   },
   "outputs": [],
   "source": []
  }
 ],
 "metadata": {
  "kernelspec": {
   "display_name": "Python 2",
   "language": "python",
   "name": "python2"
  },
  "language_info": {
   "codemirror_mode": {
    "name": "ipython",
    "version": 2
   },
   "file_extension": ".py",
   "mimetype": "text/x-python",
   "name": "python",
   "nbconvert_exporter": "python",
   "pygments_lexer": "ipython2",
   "version": "2.7.9"
  }
 },
 "nbformat": 4,
 "nbformat_minor": 0
}
